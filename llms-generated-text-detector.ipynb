{
 "cells": [
  {
   "cell_type": "code",
   "execution_count": 1,
   "id": "a8971ebb",
   "metadata": {
    "_cell_guid": "b1076dfc-b9ad-4769-8c92-a6c4dae69d19",
    "_uuid": "8f2839f25d086af736a60e9eeb907d3b93b6e0e5",
    "execution": {
     "iopub.execute_input": "2024-01-18T18:18:04.299944Z",
     "iopub.status.busy": "2024-01-18T18:18:04.299614Z",
     "iopub.status.idle": "2024-01-18T18:18:05.109125Z",
     "shell.execute_reply": "2024-01-18T18:18:05.108134Z"
    },
    "papermill": {
     "duration": 0.823891,
     "end_time": "2024-01-18T18:18:05.111471",
     "exception": false,
     "start_time": "2024-01-18T18:18:04.287580",
     "status": "completed"
    },
    "tags": []
   },
   "outputs": [
    {
     "name": "stdout",
     "output_type": "stream",
     "text": [
      "/kaggle/input/llm-detect-ai-generated-text/sample_submission.csv\n",
      "/kaggle/input/llm-detect-ai-generated-text/train_prompts.csv\n",
      "/kaggle/input/llm-detect-ai-generated-text/test_essays.csv\n",
      "/kaggle/input/llm-detect-ai-generated-text/train_essays.csv\n",
      "/kaggle/input/daigt-proper-train-dataset/train_drcat_03.csv\n",
      "/kaggle/input/daigt-proper-train-dataset/train_drcat_02.csv\n",
      "/kaggle/input/daigt-proper-train-dataset/train_drcat_04.csv\n",
      "/kaggle/input/daigt-proper-train-dataset/train_drcat_01.csv\n"
     ]
    }
   ],
   "source": [
    "# This Python 3 environment comes with many helpful analytics libraries installed\n",
    "# It is defined by the kaggle/python Docker image: https://github.com/kaggle/docker-python\n",
    "# For example, here's several helpful packages to load\n",
    "\n",
    "import numpy as np # linear algebra\n",
    "import pandas as pd # data processing, CSV file I/O (e.g. pd.read_csv)\n",
    "\n",
    "# Input data files are available in the read-only \"../input/\" directory\n",
    "# For example, running this (by clicking run or pressing Shift+Enter) will list all files under the input directory\n",
    "\n",
    "import os\n",
    "for dirname, _, filenames in os.walk('/kaggle/input'):\n",
    "    for filename in filenames:\n",
    "        print(os.path.join(dirname, filename))\n",
    "\n",
    "# You can write up to 20GB to the current directory (/kaggle/working/) that gets preserved as output when you create a version using \"Save & Run All\" \n",
    "# You can also write temporary files to /kaggle/temp/, but they won't be saved outside of the current session"
   ]
  },
  {
   "cell_type": "code",
   "execution_count": 2,
   "id": "e874a951",
   "metadata": {
    "execution": {
     "iopub.execute_input": "2024-01-18T18:18:05.135060Z",
     "iopub.status.busy": "2024-01-18T18:18:05.134666Z",
     "iopub.status.idle": "2024-01-18T18:18:19.765463Z",
     "shell.execute_reply": "2024-01-18T18:18:19.764618Z"
    },
    "papermill": {
     "duration": 14.645127,
     "end_time": "2024-01-18T18:18:19.767882",
     "exception": false,
     "start_time": "2024-01-18T18:18:05.122755",
     "status": "completed"
    },
    "tags": []
   },
   "outputs": [
    {
     "name": "stderr",
     "output_type": "stream",
     "text": [
      "/opt/conda/lib/python3.10/site-packages/scipy/__init__.py:146: UserWarning: A NumPy version >=1.16.5 and <1.23.0 is required for this version of SciPy (detected version 1.24.3\n",
      "  warnings.warn(f\"A NumPy version >={np_minversion} and <{np_maxversion}\"\n"
     ]
    }
   ],
   "source": [
    "import random\n",
    "import numpy as np\n",
    "import tensorflow as tf\n",
    "from sklearn.model_selection import train_test_split\n",
    "import re\n",
    "import string\n",
    "import tensorflow_text as tf_text"
   ]
  },
  {
   "cell_type": "code",
   "execution_count": 3,
   "id": "5bcc797d",
   "metadata": {
    "execution": {
     "iopub.execute_input": "2024-01-18T18:18:19.791149Z",
     "iopub.status.busy": "2024-01-18T18:18:19.790561Z",
     "iopub.status.idle": "2024-01-18T18:18:20.268707Z",
     "shell.execute_reply": "2024-01-18T18:18:20.267706Z"
    },
    "papermill": {
     "duration": 0.492266,
     "end_time": "2024-01-18T18:18:20.271000",
     "exception": false,
     "start_time": "2024-01-18T18:18:19.778734",
     "status": "completed"
    },
    "tags": []
   },
   "outputs": [
    {
     "name": "stdout",
     "output_type": "stream",
     "text": [
      "Num GPUs Available:  2\n"
     ]
    }
   ],
   "source": [
    "print(\"Num GPUs Available: \", len(tf.config.experimental.list_physical_devices('GPU')))"
   ]
  },
  {
   "cell_type": "code",
   "execution_count": 4,
   "id": "e652bf09",
   "metadata": {
    "execution": {
     "iopub.execute_input": "2024-01-18T18:18:20.293408Z",
     "iopub.status.busy": "2024-01-18T18:18:20.293082Z",
     "iopub.status.idle": "2024-01-18T18:18:20.298017Z",
     "shell.execute_reply": "2024-01-18T18:18:20.297158Z"
    },
    "papermill": {
     "duration": 0.018192,
     "end_time": "2024-01-18T18:18:20.300023",
     "exception": false,
     "start_time": "2024-01-18T18:18:20.281831",
     "status": "completed"
    },
    "tags": []
   },
   "outputs": [],
   "source": [
    "# define the seed value and set the numpy and tensorflow random value to be fixed\n",
    "seed_value=43\n",
    "os.environ['PYTHONHASHSEED']=str(seed_value)\n",
    "random.seed(seed_value)\n",
    "np.random.seed(seed_value)\n",
    "tf.random.set_seed(seed_value)"
   ]
  },
  {
   "cell_type": "code",
   "execution_count": 5,
   "id": "f066375d",
   "metadata": {
    "execution": {
     "iopub.execute_input": "2024-01-18T18:18:20.323324Z",
     "iopub.status.busy": "2024-01-18T18:18:20.322790Z",
     "iopub.status.idle": "2024-01-18T18:18:20.338252Z",
     "shell.execute_reply": "2024-01-18T18:18:20.337324Z"
    },
    "papermill": {
     "duration": 0.02885,
     "end_time": "2024-01-18T18:18:20.340406",
     "exception": false,
     "start_time": "2024-01-18T18:18:20.311556",
     "status": "completed"
    },
    "tags": []
   },
   "outputs": [],
   "source": [
    "sample_df=pd.read_csv('/kaggle/input/llm-detect-ai-generated-text/sample_submission.csv')"
   ]
  },
  {
   "cell_type": "code",
   "execution_count": 6,
   "id": "129e626f",
   "metadata": {
    "execution": {
     "iopub.execute_input": "2024-01-18T18:18:20.363394Z",
     "iopub.status.busy": "2024-01-18T18:18:20.363094Z",
     "iopub.status.idle": "2024-01-18T18:18:20.381703Z",
     "shell.execute_reply": "2024-01-18T18:18:20.380778Z"
    },
    "papermill": {
     "duration": 0.032185,
     "end_time": "2024-01-18T18:18:20.383683",
     "exception": false,
     "start_time": "2024-01-18T18:18:20.351498",
     "status": "completed"
    },
    "tags": []
   },
   "outputs": [
    {
     "data": {
      "text/html": [
       "<div>\n",
       "<style scoped>\n",
       "    .dataframe tbody tr th:only-of-type {\n",
       "        vertical-align: middle;\n",
       "    }\n",
       "\n",
       "    .dataframe tbody tr th {\n",
       "        vertical-align: top;\n",
       "    }\n",
       "\n",
       "    .dataframe thead th {\n",
       "        text-align: right;\n",
       "    }\n",
       "</style>\n",
       "<table border=\"1\" class=\"dataframe\">\n",
       "  <thead>\n",
       "    <tr style=\"text-align: right;\">\n",
       "      <th></th>\n",
       "      <th>id</th>\n",
       "      <th>generated</th>\n",
       "    </tr>\n",
       "  </thead>\n",
       "  <tbody>\n",
       "    <tr>\n",
       "      <th>0</th>\n",
       "      <td>0000aaaa</td>\n",
       "      <td>0.1</td>\n",
       "    </tr>\n",
       "    <tr>\n",
       "      <th>1</th>\n",
       "      <td>1111bbbb</td>\n",
       "      <td>0.9</td>\n",
       "    </tr>\n",
       "    <tr>\n",
       "      <th>2</th>\n",
       "      <td>2222cccc</td>\n",
       "      <td>0.4</td>\n",
       "    </tr>\n",
       "  </tbody>\n",
       "</table>\n",
       "</div>"
      ],
      "text/plain": [
       "         id  generated\n",
       "0  0000aaaa        0.1\n",
       "1  1111bbbb        0.9\n",
       "2  2222cccc        0.4"
      ]
     },
     "execution_count": 6,
     "metadata": {},
     "output_type": "execute_result"
    }
   ],
   "source": [
    "# sample submission.csv ,we need to generate the same\n",
    "sample_df.head()"
   ]
  },
  {
   "cell_type": "code",
   "execution_count": 7,
   "id": "ac5d81ac",
   "metadata": {
    "execution": {
     "iopub.execute_input": "2024-01-18T18:18:20.407362Z",
     "iopub.status.busy": "2024-01-18T18:18:20.407037Z",
     "iopub.status.idle": "2024-01-18T18:18:20.502662Z",
     "shell.execute_reply": "2024-01-18T18:18:20.501628Z"
    },
    "papermill": {
     "duration": 0.110031,
     "end_time": "2024-01-18T18:18:20.505017",
     "exception": false,
     "start_time": "2024-01-18T18:18:20.394986",
     "status": "completed"
    },
    "tags": []
   },
   "outputs": [],
   "source": [
    "# load the dataset\n",
    "df1=pd.read_csv('/kaggle/input/llm-detect-ai-generated-text/train_essays.csv')"
   ]
  },
  {
   "cell_type": "code",
   "execution_count": 8,
   "id": "797fac03",
   "metadata": {
    "execution": {
     "iopub.execute_input": "2024-01-18T18:18:20.528158Z",
     "iopub.status.busy": "2024-01-18T18:18:20.527832Z",
     "iopub.status.idle": "2024-01-18T18:18:20.537846Z",
     "shell.execute_reply": "2024-01-18T18:18:20.536802Z"
    },
    "papermill": {
     "duration": 0.023886,
     "end_time": "2024-01-18T18:18:20.539828",
     "exception": false,
     "start_time": "2024-01-18T18:18:20.515942",
     "status": "completed"
    },
    "tags": []
   },
   "outputs": [
    {
     "data": {
      "text/html": [
       "<div>\n",
       "<style scoped>\n",
       "    .dataframe tbody tr th:only-of-type {\n",
       "        vertical-align: middle;\n",
       "    }\n",
       "\n",
       "    .dataframe tbody tr th {\n",
       "        vertical-align: top;\n",
       "    }\n",
       "\n",
       "    .dataframe thead th {\n",
       "        text-align: right;\n",
       "    }\n",
       "</style>\n",
       "<table border=\"1\" class=\"dataframe\">\n",
       "  <thead>\n",
       "    <tr style=\"text-align: right;\">\n",
       "      <th></th>\n",
       "      <th>id</th>\n",
       "      <th>prompt_id</th>\n",
       "      <th>text</th>\n",
       "      <th>generated</th>\n",
       "    </tr>\n",
       "  </thead>\n",
       "  <tbody>\n",
       "    <tr>\n",
       "      <th>0</th>\n",
       "      <td>0059830c</td>\n",
       "      <td>0</td>\n",
       "      <td>Cars. Cars have been around since they became ...</td>\n",
       "      <td>0</td>\n",
       "    </tr>\n",
       "    <tr>\n",
       "      <th>1</th>\n",
       "      <td>005db917</td>\n",
       "      <td>0</td>\n",
       "      <td>Transportation is a large necessity in most co...</td>\n",
       "      <td>0</td>\n",
       "    </tr>\n",
       "    <tr>\n",
       "      <th>2</th>\n",
       "      <td>008f63e3</td>\n",
       "      <td>0</td>\n",
       "      <td>\"America's love affair with it's vehicles seem...</td>\n",
       "      <td>0</td>\n",
       "    </tr>\n",
       "    <tr>\n",
       "      <th>3</th>\n",
       "      <td>00940276</td>\n",
       "      <td>0</td>\n",
       "      <td>How often do you ride in a car? Do you drive a...</td>\n",
       "      <td>0</td>\n",
       "    </tr>\n",
       "    <tr>\n",
       "      <th>4</th>\n",
       "      <td>00c39458</td>\n",
       "      <td>0</td>\n",
       "      <td>Cars are a wonderful thing. They are perhaps o...</td>\n",
       "      <td>0</td>\n",
       "    </tr>\n",
       "  </tbody>\n",
       "</table>\n",
       "</div>"
      ],
      "text/plain": [
       "         id  prompt_id                                               text  \\\n",
       "0  0059830c          0  Cars. Cars have been around since they became ...   \n",
       "1  005db917          0  Transportation is a large necessity in most co...   \n",
       "2  008f63e3          0  \"America's love affair with it's vehicles seem...   \n",
       "3  00940276          0  How often do you ride in a car? Do you drive a...   \n",
       "4  00c39458          0  Cars are a wonderful thing. They are perhaps o...   \n",
       "\n",
       "   generated  \n",
       "0          0  \n",
       "1          0  \n",
       "2          0  \n",
       "3          0  \n",
       "4          0  "
      ]
     },
     "execution_count": 8,
     "metadata": {},
     "output_type": "execute_result"
    }
   ],
   "source": [
    "# example text of given dataset\n",
    "df1.head()"
   ]
  },
  {
   "cell_type": "code",
   "execution_count": 9,
   "id": "4b96ab66",
   "metadata": {
    "execution": {
     "iopub.execute_input": "2024-01-18T18:18:20.563143Z",
     "iopub.status.busy": "2024-01-18T18:18:20.562841Z",
     "iopub.status.idle": "2024-01-18T18:18:20.568266Z",
     "shell.execute_reply": "2024-01-18T18:18:20.567428Z"
    },
    "papermill": {
     "duration": 0.01898,
     "end_time": "2024-01-18T18:18:20.570382",
     "exception": false,
     "start_time": "2024-01-18T18:18:20.551402",
     "status": "completed"
    },
    "tags": []
   },
   "outputs": [
    {
     "data": {
      "text/plain": [
       "(1378, 4)"
      ]
     },
     "execution_count": 9,
     "metadata": {},
     "output_type": "execute_result"
    }
   ],
   "source": [
    "#shape of the dataset\n",
    "df1.shape"
   ]
  },
  {
   "cell_type": "code",
   "execution_count": 10,
   "id": "8c3059c1",
   "metadata": {
    "execution": {
     "iopub.execute_input": "2024-01-18T18:18:20.594298Z",
     "iopub.status.busy": "2024-01-18T18:18:20.594012Z",
     "iopub.status.idle": "2024-01-18T18:18:20.607852Z",
     "shell.execute_reply": "2024-01-18T18:18:20.606882Z"
    },
    "papermill": {
     "duration": 0.028316,
     "end_time": "2024-01-18T18:18:20.609998",
     "exception": false,
     "start_time": "2024-01-18T18:18:20.581682",
     "status": "completed"
    },
    "tags": []
   },
   "outputs": [
    {
     "data": {
      "text/plain": [
       "generated\n",
       "0    1375\n",
       "1       3\n",
       "Name: count, dtype: int64"
      ]
     },
     "execution_count": 10,
     "metadata": {},
     "output_type": "execute_result"
    }
   ],
   "source": [
    "# value counts of label\n",
    "df1['generated'].value_counts()"
   ]
  },
  {
   "cell_type": "markdown",
   "id": "59c27f5c",
   "metadata": {
    "papermill": {
     "duration": 0.011504,
     "end_time": "2024-01-18T18:18:20.633194",
     "exception": false,
     "start_time": "2024-01-18T18:18:20.621690",
     "status": "completed"
    },
    "tags": []
   },
   "source": [
    "**This dataset id more imbalanced we need some balance dataset otherwise it will not give satisfactory result\n",
    "**"
   ]
  },
  {
   "cell_type": "markdown",
   "id": "77a97386",
   "metadata": {
    "papermill": {
     "duration": 0.011083,
     "end_time": "2024-01-18T18:18:20.656049",
     "exception": false,
     "start_time": "2024-01-18T18:18:20.644966",
     "status": "completed"
    },
    "tags": []
   },
   "source": []
  },
  {
   "cell_type": "code",
   "execution_count": 11,
   "id": "30b6cb34",
   "metadata": {
    "execution": {
     "iopub.execute_input": "2024-01-18T18:18:20.679697Z",
     "iopub.status.busy": "2024-01-18T18:18:20.679043Z",
     "iopub.status.idle": "2024-01-18T18:18:28.914832Z",
     "shell.execute_reply": "2024-01-18T18:18:28.913621Z"
    },
    "papermill": {
     "duration": 8.250393,
     "end_time": "2024-01-18T18:18:28.917458",
     "exception": false,
     "start_time": "2024-01-18T18:18:20.667065",
     "status": "completed"
    },
    "tags": []
   },
   "outputs": [],
   "source": [
    "df2=pd.read_csv('/kaggle/input/daigt-proper-train-dataset/train_drcat_01.csv')\n",
    "df3=pd.read_csv('/kaggle/input/daigt-proper-train-dataset/train_drcat_02.csv')\n",
    "df4=pd.read_csv('/kaggle/input/daigt-proper-train-dataset/train_drcat_03.csv')\n",
    "df5=pd.read_csv('/kaggle/input/daigt-proper-train-dataset/train_drcat_04.csv')"
   ]
  },
  {
   "cell_type": "code",
   "execution_count": 12,
   "id": "930b0e5c",
   "metadata": {
    "execution": {
     "iopub.execute_input": "2024-01-18T18:18:28.942407Z",
     "iopub.status.busy": "2024-01-18T18:18:28.942087Z",
     "iopub.status.idle": "2024-01-18T18:18:28.967668Z",
     "shell.execute_reply": "2024-01-18T18:18:28.966911Z"
    },
    "papermill": {
     "duration": 0.040035,
     "end_time": "2024-01-18T18:18:28.969909",
     "exception": false,
     "start_time": "2024-01-18T18:18:28.929874",
     "status": "completed"
    },
    "tags": []
   },
   "outputs": [],
   "source": [
    "# concatenate the all training dataset\n",
    "df_final=pd.concat([df2,df3,df4,df5],axis=0)"
   ]
  },
  {
   "cell_type": "code",
   "execution_count": 13,
   "id": "ba57f6bd",
   "metadata": {
    "execution": {
     "iopub.execute_input": "2024-01-18T18:18:28.994537Z",
     "iopub.status.busy": "2024-01-18T18:18:28.994233Z",
     "iopub.status.idle": "2024-01-18T18:18:29.046371Z",
     "shell.execute_reply": "2024-01-18T18:18:29.045528Z"
    },
    "papermill": {
     "duration": 0.066844,
     "end_time": "2024-01-18T18:18:29.048646",
     "exception": false,
     "start_time": "2024-01-18T18:18:28.981802",
     "status": "completed"
    },
    "tags": []
   },
   "outputs": [],
   "source": [
    "# rename the label as generated\n",
    "df_final=df_final.rename(columns={'label':'generated'})"
   ]
  },
  {
   "cell_type": "code",
   "execution_count": 14,
   "id": "889953c3",
   "metadata": {
    "execution": {
     "iopub.execute_input": "2024-01-18T18:18:29.117899Z",
     "iopub.status.busy": "2024-01-18T18:18:29.117073Z",
     "iopub.status.idle": "2024-01-18T18:18:29.138474Z",
     "shell.execute_reply": "2024-01-18T18:18:29.137703Z"
    },
    "papermill": {
     "duration": 0.035359,
     "end_time": "2024-01-18T18:18:29.140532",
     "exception": false,
     "start_time": "2024-01-18T18:18:29.105173",
     "status": "completed"
    },
    "tags": []
   },
   "outputs": [],
   "source": [
    "# now concat the first dataframe 'df1'\n",
    "df_final=pd.concat([df_final,df1],axis=0)"
   ]
  },
  {
   "cell_type": "code",
   "execution_count": 15,
   "id": "2ee2bb4f",
   "metadata": {
    "execution": {
     "iopub.execute_input": "2024-01-18T18:18:29.164408Z",
     "iopub.status.busy": "2024-01-18T18:18:29.164057Z",
     "iopub.status.idle": "2024-01-18T18:18:29.177547Z",
     "shell.execute_reply": "2024-01-18T18:18:29.176651Z"
    },
    "papermill": {
     "duration": 0.027277,
     "end_time": "2024-01-18T18:18:29.179533",
     "exception": false,
     "start_time": "2024-01-18T18:18:29.152256",
     "status": "completed"
    },
    "tags": []
   },
   "outputs": [
    {
     "data": {
      "text/html": [
       "<div>\n",
       "<style scoped>\n",
       "    .dataframe tbody tr th:only-of-type {\n",
       "        vertical-align: middle;\n",
       "    }\n",
       "\n",
       "    .dataframe tbody tr th {\n",
       "        vertical-align: top;\n",
       "    }\n",
       "\n",
       "    .dataframe thead th {\n",
       "        text-align: right;\n",
       "    }\n",
       "</style>\n",
       "<table border=\"1\" class=\"dataframe\">\n",
       "  <thead>\n",
       "    <tr style=\"text-align: right;\">\n",
       "      <th></th>\n",
       "      <th>text</th>\n",
       "      <th>generated</th>\n",
       "      <th>source</th>\n",
       "      <th>fold</th>\n",
       "      <th>essay_id</th>\n",
       "      <th>prompt</th>\n",
       "      <th>id</th>\n",
       "      <th>prompt_id</th>\n",
       "    </tr>\n",
       "  </thead>\n",
       "  <tbody>\n",
       "    <tr>\n",
       "      <th>0</th>\n",
       "      <td>There are alot reasons to keep our the despise...</td>\n",
       "      <td>0</td>\n",
       "      <td>persuade_corpus</td>\n",
       "      <td>2.0</td>\n",
       "      <td>NaN</td>\n",
       "      <td>NaN</td>\n",
       "      <td>NaN</td>\n",
       "      <td>NaN</td>\n",
       "    </tr>\n",
       "    <tr>\n",
       "      <th>1</th>\n",
       "      <td>Driving smart cars that drive by themself has ...</td>\n",
       "      <td>0</td>\n",
       "      <td>persuade_corpus</td>\n",
       "      <td>4.0</td>\n",
       "      <td>NaN</td>\n",
       "      <td>NaN</td>\n",
       "      <td>NaN</td>\n",
       "      <td>NaN</td>\n",
       "    </tr>\n",
       "    <tr>\n",
       "      <th>2</th>\n",
       "      <td>Dear Principal,\\n\\nI believe that students at ...</td>\n",
       "      <td>0</td>\n",
       "      <td>persuade_corpus</td>\n",
       "      <td>0.0</td>\n",
       "      <td>NaN</td>\n",
       "      <td>NaN</td>\n",
       "      <td>NaN</td>\n",
       "      <td>NaN</td>\n",
       "    </tr>\n",
       "    <tr>\n",
       "      <th>3</th>\n",
       "      <td>Dear Principal,\\n\\nCommunity service should no...</td>\n",
       "      <td>0</td>\n",
       "      <td>persuade_corpus</td>\n",
       "      <td>0.0</td>\n",
       "      <td>NaN</td>\n",
       "      <td>NaN</td>\n",
       "      <td>NaN</td>\n",
       "      <td>NaN</td>\n",
       "    </tr>\n",
       "    <tr>\n",
       "      <th>4</th>\n",
       "      <td>My argument for the development of the driverl...</td>\n",
       "      <td>0</td>\n",
       "      <td>persuade_corpus</td>\n",
       "      <td>3.0</td>\n",
       "      <td>NaN</td>\n",
       "      <td>NaN</td>\n",
       "      <td>NaN</td>\n",
       "      <td>NaN</td>\n",
       "    </tr>\n",
       "  </tbody>\n",
       "</table>\n",
       "</div>"
      ],
      "text/plain": [
       "                                                text  generated  \\\n",
       "0  There are alot reasons to keep our the despise...          0   \n",
       "1  Driving smart cars that drive by themself has ...          0   \n",
       "2  Dear Principal,\\n\\nI believe that students at ...          0   \n",
       "3  Dear Principal,\\n\\nCommunity service should no...          0   \n",
       "4  My argument for the development of the driverl...          0   \n",
       "\n",
       "            source  fold essay_id prompt   id  prompt_id  \n",
       "0  persuade_corpus   2.0      NaN    NaN  NaN        NaN  \n",
       "1  persuade_corpus   4.0      NaN    NaN  NaN        NaN  \n",
       "2  persuade_corpus   0.0      NaN    NaN  NaN        NaN  \n",
       "3  persuade_corpus   0.0      NaN    NaN  NaN        NaN  \n",
       "4  persuade_corpus   3.0      NaN    NaN  NaN        NaN  "
      ]
     },
     "execution_count": 15,
     "metadata": {},
     "output_type": "execute_result"
    }
   ],
   "source": [
    "df_final.head()"
   ]
  },
  {
   "cell_type": "code",
   "execution_count": 16,
   "id": "64eb6745",
   "metadata": {
    "execution": {
     "iopub.execute_input": "2024-01-18T18:18:29.202807Z",
     "iopub.status.busy": "2024-01-18T18:18:29.202544Z",
     "iopub.status.idle": "2024-01-18T18:18:29.207772Z",
     "shell.execute_reply": "2024-01-18T18:18:29.206971Z"
    },
    "papermill": {
     "duration": 0.019124,
     "end_time": "2024-01-18T18:18:29.209674",
     "exception": false,
     "start_time": "2024-01-18T18:18:29.190550",
     "status": "completed"
    },
    "tags": []
   },
   "outputs": [
    {
     "data": {
      "text/plain": [
       "(160834, 8)"
      ]
     },
     "execution_count": 16,
     "metadata": {},
     "output_type": "execute_result"
    }
   ],
   "source": [
    "# shape of final dataset\n",
    "df_final.shape"
   ]
  },
  {
   "cell_type": "code",
   "execution_count": 17,
   "id": "af87aaa8",
   "metadata": {
    "execution": {
     "iopub.execute_input": "2024-01-18T18:18:29.233589Z",
     "iopub.status.busy": "2024-01-18T18:18:29.233048Z",
     "iopub.status.idle": "2024-01-18T18:18:29.241136Z",
     "shell.execute_reply": "2024-01-18T18:18:29.240313Z"
    },
    "papermill": {
     "duration": 0.022256,
     "end_time": "2024-01-18T18:18:29.243190",
     "exception": false,
     "start_time": "2024-01-18T18:18:29.220934",
     "status": "completed"
    },
    "tags": []
   },
   "outputs": [
    {
     "data": {
      "text/plain": [
       "generated\n",
       "0    116747\n",
       "1     44087\n",
       "Name: count, dtype: int64"
      ]
     },
     "execution_count": 17,
     "metadata": {},
     "output_type": "execute_result"
    }
   ],
   "source": [
    "# check whether dataset is imbalance or not\n",
    "df_final['generated'].value_counts()"
   ]
  },
  {
   "cell_type": "code",
   "execution_count": 18,
   "id": "1c2e0b1e",
   "metadata": {
    "execution": {
     "iopub.execute_input": "2024-01-18T18:18:29.267062Z",
     "iopub.status.busy": "2024-01-18T18:18:29.266630Z",
     "iopub.status.idle": "2024-01-18T18:18:29.272110Z",
     "shell.execute_reply": "2024-01-18T18:18:29.271315Z"
    },
    "papermill": {
     "duration": 0.019532,
     "end_time": "2024-01-18T18:18:29.274087",
     "exception": false,
     "start_time": "2024-01-18T18:18:29.254555",
     "status": "completed"
    },
    "tags": []
   },
   "outputs": [
    {
     "data": {
      "text/plain": [
       "Index(['text', 'generated', 'source', 'fold', 'essay_id', 'prompt', 'id',\n",
       "       'prompt_id'],\n",
       "      dtype='object')"
      ]
     },
     "execution_count": 18,
     "metadata": {},
     "output_type": "execute_result"
    }
   ],
   "source": [
    "df_final.columns"
   ]
  },
  {
   "cell_type": "code",
   "execution_count": 19,
   "id": "b2cfe051",
   "metadata": {
    "execution": {
     "iopub.execute_input": "2024-01-18T18:18:29.298552Z",
     "iopub.status.busy": "2024-01-18T18:18:29.298063Z",
     "iopub.status.idle": "2024-01-18T18:18:29.315968Z",
     "shell.execute_reply": "2024-01-18T18:18:29.315098Z"
    },
    "papermill": {
     "duration": 0.032029,
     "end_time": "2024-01-18T18:18:29.317871",
     "exception": false,
     "start_time": "2024-01-18T18:18:29.285842",
     "status": "completed"
    },
    "tags": []
   },
   "outputs": [],
   "source": [
    "# remove the reduntant columns\n",
    "df_final=df_final.drop(['source','fold','essay_id','prompt_id'],axis=1)"
   ]
  },
  {
   "cell_type": "code",
   "execution_count": 20,
   "id": "c022832c",
   "metadata": {
    "execution": {
     "iopub.execute_input": "2024-01-18T18:18:29.343644Z",
     "iopub.status.busy": "2024-01-18T18:18:29.342853Z",
     "iopub.status.idle": "2024-01-18T18:18:29.361760Z",
     "shell.execute_reply": "2024-01-18T18:18:29.360834Z"
    },
    "papermill": {
     "duration": 0.03458,
     "end_time": "2024-01-18T18:18:29.363842",
     "exception": false,
     "start_time": "2024-01-18T18:18:29.329262",
     "status": "completed"
    },
    "tags": []
   },
   "outputs": [],
   "source": [
    "# we miss to remove the one reduntant columns\n",
    "df_final=df_final.drop(['prompt'],axis=1)"
   ]
  },
  {
   "cell_type": "code",
   "execution_count": 21,
   "id": "728096e4",
   "metadata": {
    "execution": {
     "iopub.execute_input": "2024-01-18T18:18:29.388979Z",
     "iopub.status.busy": "2024-01-18T18:18:29.388714Z",
     "iopub.status.idle": "2024-01-18T18:18:29.398404Z",
     "shell.execute_reply": "2024-01-18T18:18:29.397603Z"
    },
    "papermill": {
     "duration": 0.024517,
     "end_time": "2024-01-18T18:18:29.400539",
     "exception": false,
     "start_time": "2024-01-18T18:18:29.376022",
     "status": "completed"
    },
    "tags": []
   },
   "outputs": [
    {
     "data": {
      "text/html": [
       "<div>\n",
       "<style scoped>\n",
       "    .dataframe tbody tr th:only-of-type {\n",
       "        vertical-align: middle;\n",
       "    }\n",
       "\n",
       "    .dataframe tbody tr th {\n",
       "        vertical-align: top;\n",
       "    }\n",
       "\n",
       "    .dataframe thead th {\n",
       "        text-align: right;\n",
       "    }\n",
       "</style>\n",
       "<table border=\"1\" class=\"dataframe\">\n",
       "  <thead>\n",
       "    <tr style=\"text-align: right;\">\n",
       "      <th></th>\n",
       "      <th>text</th>\n",
       "      <th>generated</th>\n",
       "      <th>id</th>\n",
       "    </tr>\n",
       "  </thead>\n",
       "  <tbody>\n",
       "    <tr>\n",
       "      <th>0</th>\n",
       "      <td>There are alot reasons to keep our the despise...</td>\n",
       "      <td>0</td>\n",
       "      <td>NaN</td>\n",
       "    </tr>\n",
       "    <tr>\n",
       "      <th>1</th>\n",
       "      <td>Driving smart cars that drive by themself has ...</td>\n",
       "      <td>0</td>\n",
       "      <td>NaN</td>\n",
       "    </tr>\n",
       "    <tr>\n",
       "      <th>2</th>\n",
       "      <td>Dear Principal,\\n\\nI believe that students at ...</td>\n",
       "      <td>0</td>\n",
       "      <td>NaN</td>\n",
       "    </tr>\n",
       "    <tr>\n",
       "      <th>3</th>\n",
       "      <td>Dear Principal,\\n\\nCommunity service should no...</td>\n",
       "      <td>0</td>\n",
       "      <td>NaN</td>\n",
       "    </tr>\n",
       "    <tr>\n",
       "      <th>4</th>\n",
       "      <td>My argument for the development of the driverl...</td>\n",
       "      <td>0</td>\n",
       "      <td>NaN</td>\n",
       "    </tr>\n",
       "  </tbody>\n",
       "</table>\n",
       "</div>"
      ],
      "text/plain": [
       "                                                text  generated   id\n",
       "0  There are alot reasons to keep our the despise...          0  NaN\n",
       "1  Driving smart cars that drive by themself has ...          0  NaN\n",
       "2  Dear Principal,\\n\\nI believe that students at ...          0  NaN\n",
       "3  Dear Principal,\\n\\nCommunity service should no...          0  NaN\n",
       "4  My argument for the development of the driverl...          0  NaN"
      ]
     },
     "execution_count": 21,
     "metadata": {},
     "output_type": "execute_result"
    }
   ],
   "source": [
    "# final dataset \n",
    "df_final.head()"
   ]
  },
  {
   "cell_type": "code",
   "execution_count": 22,
   "id": "b7a60202",
   "metadata": {
    "execution": {
     "iopub.execute_input": "2024-01-18T18:18:29.426054Z",
     "iopub.status.busy": "2024-01-18T18:18:29.425777Z",
     "iopub.status.idle": "2024-01-18T18:18:29.438240Z",
     "shell.execute_reply": "2024-01-18T18:18:29.437418Z"
    },
    "papermill": {
     "duration": 0.027736,
     "end_time": "2024-01-18T18:18:29.440207",
     "exception": false,
     "start_time": "2024-01-18T18:18:29.412471",
     "status": "completed"
    },
    "tags": []
   },
   "outputs": [],
   "source": [
    "df_final=df_final.drop(['id'],axis=1)"
   ]
  },
  {
   "cell_type": "code",
   "execution_count": 23,
   "id": "9bbf3222",
   "metadata": {
    "execution": {
     "iopub.execute_input": "2024-01-18T18:18:29.466759Z",
     "iopub.status.busy": "2024-01-18T18:18:29.466487Z",
     "iopub.status.idle": "2024-01-18T18:18:34.151858Z",
     "shell.execute_reply": "2024-01-18T18:18:34.150916Z"
    },
    "papermill": {
     "duration": 4.70111,
     "end_time": "2024-01-18T18:18:34.153777",
     "exception": false,
     "start_time": "2024-01-18T18:18:29.452667",
     "status": "completed"
    },
    "tags": []
   },
   "outputs": [
    {
     "data": {
      "image/png": "[encoded data removed]",
      "text/plain": [
       "<Figure size 640x480 with 1 Axes>"
      ]
     },
     "metadata": {},
     "output_type": "display_data"
    }
   ],
   "source": [
    "import matplotlib.pyplot as plt\n",
    "sequence_lengths = df_final['text'].apply(lambda x: len(x.split()))\n",
    "\n",
    "plt.hist(sequence_lengths, bins=30, alpha=0.75, color='blue')\n",
    "plt.title('Distribution of Text Sequence Lengths')\n",
    "plt.xlabel('Sequence Length')\n",
    "plt.ylabel('Frequency')\n",
    "plt.show()"
   ]
  },
  {
   "cell_type": "code",
   "execution_count": 24,
   "id": "131c3213",
   "metadata": {
    "execution": {
     "iopub.execute_input": "2024-01-18T18:18:34.181452Z",
     "iopub.status.busy": "2024-01-18T18:18:34.181159Z",
     "iopub.status.idle": "2024-01-18T18:18:34.205094Z",
     "shell.execute_reply": "2024-01-18T18:18:34.204316Z"
    },
    "papermill": {
     "duration": 0.040153,
     "end_time": "2024-01-18T18:18:34.207081",
     "exception": false,
     "start_time": "2024-01-18T18:18:34.166928",
     "status": "completed"
    },
    "tags": []
   },
   "outputs": [],
   "source": [
    "# split the dataset into train and test sets\n",
    "train_df,test_df=train_test_split(df_final,test_size=0.35,random_state=333)"
   ]
  },
  {
   "cell_type": "code",
   "execution_count": 25,
   "id": "9f14e75a",
   "metadata": {
    "execution": {
     "iopub.execute_input": "2024-01-18T18:18:34.233436Z",
     "iopub.status.busy": "2024-01-18T18:18:34.233106Z",
     "iopub.status.idle": "2024-01-18T18:18:35.366106Z",
     "shell.execute_reply": "2024-01-18T18:18:35.365249Z"
    },
    "papermill": {
     "duration": 1.148727,
     "end_time": "2024-01-18T18:18:35.368447",
     "exception": false,
     "start_time": "2024-01-18T18:18:34.219720",
     "status": "completed"
    },
    "tags": []
   },
   "outputs": [],
   "source": [
    "# define batch size and convert the raw dataset into trainable dataset\n",
    "batch_size = 32\n",
    "\n",
    "raw_train_ds = tf.data.Dataset.from_tensor_slices(\n",
    "    (train_df['text'].values, train_df['generated'].values)\n",
    ").batch(batch_size)\n",
    "\n",
    "raw_test_ds = tf.data.Dataset.from_tensor_slices(\n",
    "    (test_df['text'].values, test_df['generated'].values)\n",
    ").batch(batch_size)"
   ]
  },
  {
   "cell_type": "code",
   "execution_count": 26,
   "id": "7ab4db6e",
   "metadata": {
    "execution": {
     "iopub.execute_input": "2024-01-18T18:18:35.395946Z",
     "iopub.status.busy": "2024-01-18T18:18:35.395635Z",
     "iopub.status.idle": "2024-01-18T18:21:40.163600Z",
     "shell.execute_reply": "2024-01-18T18:21:40.162511Z"
    },
    "papermill": {
     "duration": 184.784498,
     "end_time": "2024-01-18T18:21:40.166201",
     "exception": false,
     "start_time": "2024-01-18T18:18:35.381703",
     "status": "completed"
    },
    "tags": []
   },
   "outputs": [],
   "source": [
    "# perform the data pre-processing steps like normalization and vectorization.\n",
    "max_features = 75000\n",
    "embedding_dim = 64\n",
    "sequence_length = 512*2\n",
    "\n",
    "with tf.device('/GPU:0'):\n",
    "    def tf_lower_and_split_punct(text):\n",
    "        text = tf_text.normalize_utf8(text, 'NFKD')\n",
    "        text = tf.strings.lower(text)\n",
    "        text = tf.strings.regex_replace(text, '[^ a-z.?!,¿]', '')\n",
    "        text = tf.strings.regex_replace(text, '[.?!,¿]', r' \\0 ')\n",
    "        text = tf.strings.strip(text)\n",
    "        text = tf.strings.join(['[START]', text, '[END]'], separator=' ')\n",
    "        return text\n",
    "    \n",
    "    # Text vectorization layer\n",
    "    vectorize_layer = tf.keras.layers.TextVectorization(\n",
    "       standardize=tf_lower_and_split_punct,\n",
    "       max_tokens=max_features,\n",
    "       ngrams = (3,5),\n",
    "       output_mode=\"int\",\n",
    "       output_sequence_length=sequence_length,\n",
    "       pad_to_max_tokens=True\n",
    "    )\n",
    "    \n",
    "    text_ds = raw_train_ds.map(lambda x, y: x)\n",
    "    vectorize_layer.adapt(text_ds)\n",
    "    \n",
    "    def vectorize_text(text, label):\n",
    "        text = tf.expand_dims(text, -1)\n",
    "        return vectorize_layer(text), label\n",
    "    \n",
    "    train_ds = raw_train_ds.map(vectorize_text)\n",
    "    test_ds = raw_test_ds.map(vectorize_text)\n"
   ]
  },
  {
   "cell_type": "code",
   "execution_count": 27,
   "id": "2d2ed2ba",
   "metadata": {
    "execution": {
     "iopub.execute_input": "2024-01-18T18:21:40.193507Z",
     "iopub.status.busy": "2024-01-18T18:21:40.193177Z",
     "iopub.status.idle": "2024-01-18T18:21:40.199039Z",
     "shell.execute_reply": "2024-01-18T18:21:40.198318Z"
    },
    "papermill": {
     "duration": 0.021705,
     "end_time": "2024-01-18T18:21:40.200966",
     "exception": false,
     "start_time": "2024-01-18T18:21:40.179261",
     "status": "completed"
    },
    "tags": []
   },
   "outputs": [],
   "source": [
    "from tensorflow.keras.layers import TextVectorization,Embedding,Bidirectional,Conv1D,LSTM,GlobalMaxPooling1D,Dense,Dropout\n",
    "from tensorflow.keras import Model,Input"
   ]
  },
  {
   "cell_type": "code",
   "execution_count": 28,
   "id": "5504ced5",
   "metadata": {
    "execution": {
     "iopub.execute_input": "2024-01-18T18:21:40.228437Z",
     "iopub.status.busy": "2024-01-18T18:21:40.228084Z",
     "iopub.status.idle": "2024-01-18T18:21:40.237509Z",
     "shell.execute_reply": "2024-01-18T18:21:40.236730Z"
    },
    "papermill": {
     "duration": 0.025569,
     "end_time": "2024-01-18T18:21:40.239559",
     "exception": false,
     "start_time": "2024-01-18T18:21:40.213990",
     "status": "completed"
    },
    "tags": []
   },
   "outputs": [],
   "source": [
    "# difine the transformer model \n",
    "class Transformer(tf.keras.layers.Layer):\n",
    "    def __init__(self,embed_dim,num_heads,ff_dim,rate=0.01):\n",
    "        super(Transformer,self).__init__()\n",
    "        self.attn=tf.keras.layers.MultiHeadAttention(num_heads=num_heads,key_dim=embed_dim)\n",
    "        self.ffn=tf.keras.Sequential(\n",
    "            [tf.keras.layers.Dense(ff_dim,activation='relu'),tf.keras.layers.Dense(embed_dim),]\n",
    "        )\n",
    "        self.layernorm1=tf.keras.layers.LayerNormalization(epsilon=1e-4)\n",
    "        self.layernorm2=tf.keras.layers.LayerNormalization(epsilon=1e-4)\n",
    "        self.dropout1=Dropout(rate)\n",
    "        self.dropout2=Dropout(rate)\n",
    "        \n",
    "    \n",
    "    def call(self,inputs, training):\n",
    "        attn_out=self.attn(inputs,inputs)\n",
    "        attn_out=self.dropout1(attn_out,training=training)\n",
    "        out1=self.layernorm1(inputs + attn_out)\n",
    "        ffn_out=self.ffn(out1)\n",
    "        ffn_out=self.dropout2(ffn_out,training=training)\n",
    "        return self.layernorm2(out1+ffn_out)\n",
    "    "
   ]
  },
  {
   "cell_type": "code",
   "execution_count": 29,
   "id": "630829b5",
   "metadata": {
    "execution": {
     "iopub.execute_input": "2024-01-18T18:21:40.267022Z",
     "iopub.status.busy": "2024-01-18T18:21:40.266727Z",
     "iopub.status.idle": "2024-01-18T18:21:43.093974Z",
     "shell.execute_reply": "2024-01-18T18:21:43.093214Z"
    },
    "papermill": {
     "duration": 2.843462,
     "end_time": "2024-01-18T18:21:43.096150",
     "exception": false,
     "start_time": "2024-01-18T18:21:40.252688",
     "status": "completed"
    },
    "tags": []
   },
   "outputs": [],
   "source": [
    "inputs = Input(shape=(sequence_length,), dtype=\"int64\")\n",
    "x = Embedding(max_features, embedding_dim)(inputs)\n",
    "x = Bidirectional(LSTM(32, return_sequences=True))(x)\n",
    "transformer = Transformer(embedding_dim, 2, 32)\n",
    "x = transformer(x)\n",
    "x = Conv1D(128, 7, padding=\"valid\", activation=\"relu\", strides=3)(x)\n",
    "x = GlobalMaxPooling1D()(x)\n",
    "x = Dense(128, activation=\"relu\")(x)\n",
    "x = Dropout(0.5)(x)\n",
    "predictions = Dense(1, activation=\"sigmoid\", name=\"predictions\")(x)"
   ]
  },
  {
   "cell_type": "code",
   "execution_count": 30,
   "id": "893d7176",
   "metadata": {
    "execution": {
     "iopub.execute_input": "2024-01-18T18:21:43.121930Z",
     "iopub.status.busy": "2024-01-18T18:21:43.121628Z",
     "iopub.status.idle": "2024-01-18T18:40:20.328374Z",
     "shell.execute_reply": "2024-01-18T18:40:20.327355Z"
    },
    "papermill": {
     "duration": 1117.798297,
     "end_time": "2024-01-18T18:40:20.906801",
     "exception": false,
     "start_time": "2024-01-18T18:21:43.108504",
     "status": "completed"
    },
    "tags": []
   },
   "outputs": [
    {
     "name": "stdout",
     "output_type": "stream",
     "text": [
      "Epoch 1/2\n",
      "3267/3267 [==============================] - 717s 216ms/step - loss: 0.0488 - binary_accuracy: 0.9813 - val_loss: 0.0093 - val_binary_accuracy: 0.9983\n",
      "Epoch 2/2\n",
      "3267/3267 [==============================] - 400s 122ms/step - loss: 0.0081 - binary_accuracy: 0.9984 - val_loss: 0.0128 - val_binary_accuracy: 0.9978\n"
     ]
    }
   ],
   "source": [
    "with tf.device('/GPU:0'):\n",
    "    model = Model(inputs=inputs, outputs=predictions)\n",
    "    model.compile(loss=\"binary_crossentropy\", optimizer=\"adam\", metrics=[\"binary_accuracy\"])\n",
    "    epochs = 2\n",
    "    model.fit(train_ds, validation_data=test_ds, epochs=epochs)"
   ]
  },
  {
   "cell_type": "code",
   "execution_count": 31,
   "id": "c0af08ba",
   "metadata": {
    "execution": {
     "iopub.execute_input": "2024-01-18T18:40:22.069912Z",
     "iopub.status.busy": "2024-01-18T18:40:22.068895Z",
     "iopub.status.idle": "2024-01-18T18:40:22.089310Z",
     "shell.execute_reply": "2024-01-18T18:40:22.088562Z"
    },
    "papermill": {
     "duration": 0.59611,
     "end_time": "2024-01-18T18:40:22.091309",
     "exception": false,
     "start_time": "2024-01-18T18:40:21.495199",
     "status": "completed"
    },
    "tags": []
   },
   "outputs": [],
   "source": [
    "test=pd.read_csv(\"/kaggle/input/llm-detect-ai-generated-text/test_essays.csv\")"
   ]
  },
  {
   "cell_type": "code",
   "execution_count": 32,
   "id": "50dd6dfb",
   "metadata": {
    "execution": {
     "iopub.execute_input": "2024-01-18T18:40:23.162075Z",
     "iopub.status.busy": "2024-01-18T18:40:23.161184Z",
     "iopub.status.idle": "2024-01-18T18:40:24.198252Z",
     "shell.execute_reply": "2024-01-18T18:40:24.197189Z"
    },
    "papermill": {
     "duration": 1.577332,
     "end_time": "2024-01-18T18:40:24.200222",
     "exception": false,
     "start_time": "2024-01-18T18:40:22.622890",
     "status": "completed"
    },
    "tags": []
   },
   "outputs": [
    {
     "name": "stdout",
     "output_type": "stream",
     "text": [
      "1/1 [==============================] - 1s 924ms/step\n",
      "           text  generated\n",
      "0  Aaa bbb ccc.   0.866899\n",
      "1  Bbb ccc ddd.   0.866899\n",
      "2  CCC ddd eee.   0.866899\n"
     ]
    }
   ],
   "source": [
    "test_text = test['text'].values\n",
    "vectorized_test_text = vectorize_layer(test_text)\n",
    "predictions = model.predict(vectorized_test_text)\n",
    "test['generated'] = predictions\n",
    "print(test[['text', 'generated']])"
   ]
  },
  {
   "cell_type": "code",
   "execution_count": null,
   "id": "4525ef9d",
   "metadata": {
    "papermill": {
     "duration": 0.574852,
     "end_time": "2024-01-18T18:40:25.316064",
     "exception": false,
     "start_time": "2024-01-18T18:40:24.741212",
     "status": "completed"
    },
    "tags": []
   },
   "outputs": [],
   "source": []
  },
  {
   "cell_type": "code",
   "execution_count": 33,
   "id": "f58880ea",
   "metadata": {
    "execution": {
     "iopub.execute_input": "2024-01-18T18:40:26.433861Z",
     "iopub.status.busy": "2024-01-18T18:40:26.433024Z",
     "iopub.status.idle": "2024-01-18T18:40:26.443621Z",
     "shell.execute_reply": "2024-01-18T18:40:26.442621Z"
    },
    "papermill": {
     "duration": 0.587375,
     "end_time": "2024-01-18T18:40:26.446108",
     "exception": false,
     "start_time": "2024-01-18T18:40:25.858733",
     "status": "completed"
    },
    "tags": []
   },
   "outputs": [
    {
     "data": {
      "text/html": [
       "<div>\n",
       "<style scoped>\n",
       "    .dataframe tbody tr th:only-of-type {\n",
       "        vertical-align: middle;\n",
       "    }\n",
       "\n",
       "    .dataframe tbody tr th {\n",
       "        vertical-align: top;\n",
       "    }\n",
       "\n",
       "    .dataframe thead th {\n",
       "        text-align: right;\n",
       "    }\n",
       "</style>\n",
       "<table border=\"1\" class=\"dataframe\">\n",
       "  <thead>\n",
       "    <tr style=\"text-align: right;\">\n",
       "      <th></th>\n",
       "      <th>id</th>\n",
       "      <th>prompt_id</th>\n",
       "      <th>text</th>\n",
       "      <th>generated</th>\n",
       "    </tr>\n",
       "  </thead>\n",
       "  <tbody>\n",
       "    <tr>\n",
       "      <th>0</th>\n",
       "      <td>0000aaaa</td>\n",
       "      <td>2</td>\n",
       "      <td>Aaa bbb ccc.</td>\n",
       "      <td>0.866899</td>\n",
       "    </tr>\n",
       "    <tr>\n",
       "      <th>1</th>\n",
       "      <td>1111bbbb</td>\n",
       "      <td>3</td>\n",
       "      <td>Bbb ccc ddd.</td>\n",
       "      <td>0.866899</td>\n",
       "    </tr>\n",
       "    <tr>\n",
       "      <th>2</th>\n",
       "      <td>2222cccc</td>\n",
       "      <td>4</td>\n",
       "      <td>CCC ddd eee.</td>\n",
       "      <td>0.866899</td>\n",
       "    </tr>\n",
       "  </tbody>\n",
       "</table>\n",
       "</div>"
      ],
      "text/plain": [
       "         id  prompt_id          text  generated\n",
       "0  0000aaaa          2  Aaa bbb ccc.   0.866899\n",
       "1  1111bbbb          3  Bbb ccc ddd.   0.866899\n",
       "2  2222cccc          4  CCC ddd eee.   0.866899"
      ]
     },
     "execution_count": 33,
     "metadata": {},
     "output_type": "execute_result"
    }
   ],
   "source": [
    "test.head()"
   ]
  },
  {
   "cell_type": "code",
   "execution_count": 34,
   "id": "31e35236",
   "metadata": {
    "execution": {
     "iopub.execute_input": "2024-01-18T18:40:27.620330Z",
     "iopub.status.busy": "2024-01-18T18:40:27.619953Z",
     "iopub.status.idle": "2024-01-18T18:40:27.625937Z",
     "shell.execute_reply": "2024-01-18T18:40:27.624861Z"
    },
    "papermill": {
     "duration": 0.622716,
     "end_time": "2024-01-18T18:40:27.628403",
     "exception": false,
     "start_time": "2024-01-18T18:40:27.005687",
     "status": "completed"
    },
    "tags": []
   },
   "outputs": [],
   "source": [
    "test=test.drop(['text','prompt_id'],axis=1)"
   ]
  },
  {
   "cell_type": "code",
   "execution_count": 35,
   "id": "b744d9be",
   "metadata": {
    "execution": {
     "iopub.execute_input": "2024-01-18T18:40:28.699796Z",
     "iopub.status.busy": "2024-01-18T18:40:28.699422Z",
     "iopub.status.idle": "2024-01-18T18:40:28.710081Z",
     "shell.execute_reply": "2024-01-18T18:40:28.709306Z"
    },
    "papermill": {
     "duration": 0.545644,
     "end_time": "2024-01-18T18:40:28.711941",
     "exception": false,
     "start_time": "2024-01-18T18:40:28.166297",
     "status": "completed"
    },
    "tags": []
   },
   "outputs": [],
   "source": [
    "test[['id', 'generated']].set_index('id').to_csv(\"submission.csv\")"
   ]
  },
  {
   "cell_type": "code",
   "execution_count": 36,
   "id": "76338184",
   "metadata": {
    "execution": {
     "iopub.execute_input": "2024-01-18T18:40:29.833310Z",
     "iopub.status.busy": "2024-01-18T18:40:29.832566Z",
     "iopub.status.idle": "2024-01-18T18:40:29.841785Z",
     "shell.execute_reply": "2024-01-18T18:40:29.840927Z"
    },
    "papermill": {
     "duration": 0.595009,
     "end_time": "2024-01-18T18:40:29.843806",
     "exception": false,
     "start_time": "2024-01-18T18:40:29.248797",
     "status": "completed"
    },
    "tags": []
   },
   "outputs": [
    {
     "data": {
      "text/html": [
       "<div>\n",
       "<style scoped>\n",
       "    .dataframe tbody tr th:only-of-type {\n",
       "        vertical-align: middle;\n",
       "    }\n",
       "\n",
       "    .dataframe tbody tr th {\n",
       "        vertical-align: top;\n",
       "    }\n",
       "\n",
       "    .dataframe thead th {\n",
       "        text-align: right;\n",
       "    }\n",
       "</style>\n",
       "<table border=\"1\" class=\"dataframe\">\n",
       "  <thead>\n",
       "    <tr style=\"text-align: right;\">\n",
       "      <th></th>\n",
       "      <th>id</th>\n",
       "      <th>generated</th>\n",
       "    </tr>\n",
       "  </thead>\n",
       "  <tbody>\n",
       "    <tr>\n",
       "      <th>0</th>\n",
       "      <td>0000aaaa</td>\n",
       "      <td>0.866899</td>\n",
       "    </tr>\n",
       "    <tr>\n",
       "      <th>1</th>\n",
       "      <td>1111bbbb</td>\n",
       "      <td>0.866899</td>\n",
       "    </tr>\n",
       "    <tr>\n",
       "      <th>2</th>\n",
       "      <td>2222cccc</td>\n",
       "      <td>0.866899</td>\n",
       "    </tr>\n",
       "  </tbody>\n",
       "</table>\n",
       "</div>"
      ],
      "text/plain": [
       "         id  generated\n",
       "0  0000aaaa   0.866899\n",
       "1  1111bbbb   0.866899\n",
       "2  2222cccc   0.866899"
      ]
     },
     "execution_count": 36,
     "metadata": {},
     "output_type": "execute_result"
    }
   ],
   "source": [
    "test.head()"
   ]
  }
 ],
 "metadata": {
  "kaggle": {
   "accelerator": "nvidiaTeslaT4",
   "dataSources": [
    {
     "databundleVersionId": 6888007,
     "sourceId": 61542,
     "sourceType": "competition"
    },
    {
     "datasetId": 3942644,
     "sourceId": 6890527,
     "sourceType": "datasetVersion"
    }
   ],
   "dockerImageVersionId": 30636,
   "isGpuEnabled": true,
   "isInternetEnabled": false,
   "language": "python",
   "sourceType": "notebook"
  },
  "kernelspec": {
   "display_name": "Python 3",
   "language": "python",
   "name": "python3"
  },
  "language_info": {
   "codemirror_mode": {
    "name": "ipython",
    "version": 3
   },
   "file_extension": ".py",
   "mimetype": "text/x-python",
   "name": "python",
   "nbconvert_exporter": "python",
   "pygments_lexer": "ipython3",
   "version": "3.10.12"
  },
  "papermill": {
   "default_parameters": {},
   "duration": 1353.504422,
   "end_time": "2024-01-18T18:40:34.079245",
   "environment_variables": {},
   "exception": null,
   "input_path": "__notebook__.ipynb",
   "output_path": "__notebook__.ipynb",
   "parameters": {},
   "start_time": "2024-01-18T18:18:00.574823",
   "version": "2.4.0"
  }
 },
 "nbformat": 4,
 "nbformat_minor": 5
}
